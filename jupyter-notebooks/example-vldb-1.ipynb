{
 "cells": [
  {
   "cell_type": "code",
   "execution_count": 1,
   "metadata": {
    "deletable": false,
    "editable": false
   },
   "outputs": [],
   "source": [
    "%%capture\n",
    "import sys\n",
    "sys.path.append(\"..\")\n",
    "from squaresEnumerator import Squares\n",
    "s = Squares()\n",
    "inputs = []\n",
    "const, aggrs, attrs, loc = \"\", \"\", \"\", 1"
   ]
  },
  {
   "cell_type": "markdown",
   "metadata": {},
   "source": [
    "Inputs:"
   ]
  },
  {
   "cell_type": "markdown",
   "metadata": {},
   "source": [
    "- Grades\n",
    "\n",
    "|Id|Grade| \n",
    "|---|---|    \n",
    "| 101 | 8 |    \n",
    "| 102 | 11 |\n",
    "| 103 | 15 |\n",
    "| 104 | 7 |\n",
    "| 105 | 18 |\n",
    "| 106 | 10 |\n",
    "\n",
    "<!-- - Supplier \n",
    "\n",
    "|Id|Supplier Name (sname)|\n",
    "|---|---|\n",
    "|1|Michelin| -->"
   ]
  },
  {
   "cell_type": "code",
   "execution_count": 2,
   "metadata": {},
   "outputs": [],
   "source": [
    "input0 = \"id,grade\\n101,8\\n102,11\\n103,15\\n104,7\\n105,18\\n106,10\"\n",
    "inputs.append(input0)\n"
   ]
  },
  {
   "cell_type": "markdown",
   "metadata": {},
   "source": [
    "Here the user specifies the output table, using a string and \"\\n\" represents the end of a line.\n",
    "E.g. "
   ]
  },
  {
   "cell_type": "markdown",
   "metadata": {},
   "source": [
    "- Output\n",
    "\n",
    "|Id| \n",
    "|---|    \n",
    "|102 |    \n",
    "|103 |    \n",
    "|105 |    \n",
    "|106 |    "
   ]
  },
  {
   "cell_type": "code",
   "execution_count": 3,
   "metadata": {},
   "outputs": [],
   "source": [
    "output=\"id\\n102\\n103\\n105\\n106\""
   ]
  },
  {
   "cell_type": "markdown",
   "metadata": {},
   "source": [
    "[Optional] Constants. Constants can either be integers or strings. \n",
    "- E.g. consts = \"Tire,1\""
   ]
  },
  {
   "cell_type": "code",
   "execution_count": 4,
   "metadata": {},
   "outputs": [],
   "source": [
    "consts=\"10\""
   ]
  },
  {
   "cell_type": "markdown",
   "metadata": {},
   "source": [
    "[Optional] Aggregators. The user can specify several SQL/R aggregators that will be used by desired query.\n",
    "Aggregators available: \n",
    "\n",
    "| Choices | SQL Operator |\n",
    "|--|--|\n",
    "| max| MAX|\n",
    "| min | MIN|\n",
    "| mean | AVG|\n",
    "| sum | SUM|\n",
    "| like | LIKE|\n",
    "| concat/concat_grouped | Concat|\n",
    "| n | COUNT( ) |\n",
    "| max(n) | to filter using the maximum number calculated using COUNT( )|\n",
    "\n",
    "For example to count the number of pnames the user should provide aggrs = \"n\"."
   ]
  },
  {
   "cell_type": "code",
   "execution_count": 5,
   "metadata": {},
   "outputs": [],
   "source": [
    "aggrs=\"\""
   ]
  },
  {
   "cell_type": "markdown",
   "metadata": {},
   "source": [
    "[Optional] Here the user can insert certain attributes from the previous tables, that the query uses.\n",
    "- E.g. attrs=\"pname, sname\"."
   ]
  },
  {
   "cell_type": "code",
   "execution_count": 6,
   "metadata": {},
   "outputs": [],
   "source": [
    "attrs=\"grade\""
   ]
  },
  {
   "cell_type": "markdown",
   "metadata": {},
   "source": [
    "Calling the method synthesize, SQUARES returns the query both in R and SQL."
   ]
  },
  {
   "cell_type": "code",
   "execution_count": 7,
   "metadata": {},
   "outputs": [],
   "source": [
    "R_Query, SQL_Query = s.synthesize(inputs,output,consts,aggrs,attrs,1)"
   ]
  },
  {
   "cell_type": "markdown",
   "metadata": {},
   "source": [
    "- Now the SQL query is presented:\n"
   ]
  },
  {
   "cell_type": "code",
   "execution_count": 8,
   "metadata": {},
   "outputs": [
    {
     "name": "stdout",
     "output_type": "stream",
     "text": [
      "SELECT DISTINCT `id`\n",
      "FROM `input0`\n",
      "WHERE (`grade` >= 10.0)\n"
     ]
    }
   ],
   "source": [
    "print(SQL_Query)"
   ]
  },
  {
   "cell_type": "markdown",
   "metadata": {},
   "source": [
    "\n",
    "\n",
    "\n",
    "\n",
    "- Now, the R query is presented:"
   ]
  },
  {
   "cell_type": "code",
   "execution_count": 9,
   "metadata": {},
   "outputs": [
    {
     "name": "stdout",
     "output_type": "stream",
     "text": [
      "RET_DF6 <- input0 %>% ungroup() %>% filter(grade >= 10)\n",
      "RET_DF7 <- RET_DF6 %>% ungroup() %>% select(id) %>% distinct()\n",
      "\n"
     ]
    }
   ],
   "source": [
    "print(R_Query)"
   ]
  }
 ],
 "metadata": {
  "kernelspec": {
   "display_name": "Python 3",
   "language": "python",
   "name": "python3"
  },
  "language_info": {
   "codemirror_mode": {
    "name": "ipython",
    "version": 3
   },
   "file_extension": ".py",
   "mimetype": "text/x-python",
   "name": "python",
   "nbconvert_exporter": "python",
   "pygments_lexer": "ipython3",
   "version": "3.7.6"
  }
 },
 "nbformat": 4,
 "nbformat_minor": 2
}
