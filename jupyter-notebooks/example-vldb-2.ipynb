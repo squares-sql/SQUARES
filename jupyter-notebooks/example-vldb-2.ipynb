{
 "cells": [
  {
   "cell_type": "code",
   "execution_count": 1,
   "metadata": {
    "deletable": false,
    "editable": false
   },
   "outputs": [],
   "source": [
    "%%capture\n",
    "import sys\n",
    "sys.path.append(\"..\")\n",
    "from squaresEnumerator import Squares\n",
    "s = Squares()\n",
    "inputs = []\n",
    "const, aggrs, attrs, loc = \"\", \"\", \"\", 0"
   ]
  },
  {
   "cell_type": "markdown",
   "metadata": {},
   "source": [
    "Inputs:"
   ]
  },
  {
   "cell_type": "code",
   "execution_count": 2,
   "metadata": {},
   "outputs": [],
   "source": [
    "input0 = \"C_name,F_key\\nclass1,f1\\nclass2,f2\\nclass3,f1\\nclass4,f3\\nclass5,f4\"\n",
    "inputs.append(input0)\n",
    "\n",
    "input1 = \"S_key,C_name\\nS1,class1\\nS2,class1\\nS3,class2\\nS3,class5\\nS4,class2\\nS4,class4\\nS5,class3\"\n",
    "inputs.append(input1)\n",
    "\n",
    "input2 = \"F_key,F_name\\nf1,faculty1\\nf2,faculty2\\nf3,faculty3\\nf4,faculty4\"\n",
    "inputs.append(input2)\n",
    "\n",
    "input3 = \"S_key,S_name,level\\nS1,stu1,JR\\nS2,stu2,SR\\nS3,stu3,JR\\nS4,stu4,SR\\nS5,stu5,JR\"\n",
    "inputs.append(input3)"
   ]
  },
  {
   "cell_type": "markdown",
   "metadata": {},
   "source": [
    "Here the user specifies the output table, using a string and \"\\n\" represents the end of a line.\n",
    "The following table is:\n"
   ]
  },
  {
   "cell_type": "code",
   "execution_count": 3,
   "metadata": {},
   "outputs": [],
   "source": [
    "output=\"n\\n2\""
   ]
  },
  {
   "cell_type": "markdown",
   "metadata": {},
   "source": [
    "[Optional] Constants.  Constants can either be integers or strings. \n",
    "- E.g. consts = \"class2,f1\""
   ]
  },
  {
   "cell_type": "code",
   "execution_count": 4,
   "metadata": {},
   "outputs": [],
   "source": [
    "consts=\"faculty1, JR\""
   ]
  },
  {
   "cell_type": "markdown",
   "metadata": {},
   "source": [
    "[Optional] Aggregators. The user can specify several SQL/R aggregators that will be used by desired query.\n",
    "Aggregators available: \n",
    "\n",
    "| Choices | SQL Operator |\n",
    "|--|--|\n",
    "| max| MAX|\n",
    "| min | MIN|\n",
    "| mean | AVG|\n",
    "| sum | SUM|\n",
    "| like | LIKE|\n",
    "| concat/concat_grouped | Concat|\n",
    "| n | COUNT( ) |\n",
    "| max(n) | to filter using the maximum number calculated using COUNT( )|\n",
    "\n",
    "For example to count the number of classes taught by some faculty the user should provide aggrs = \"n\"."
   ]
  },
  {
   "cell_type": "code",
   "execution_count": 5,
   "metadata": {},
   "outputs": [],
   "source": [
    "aggrs=\"n\""
   ]
  },
  {
   "cell_type": "markdown",
   "metadata": {},
   "source": [
    "[Optional] Here the user can insert certain attributes from the previous tables, that the query uses.\n",
    "- E.g. attrs=\"level, F_name\"."
   ]
  },
  {
   "cell_type": "code",
   "execution_count": 6,
   "metadata": {},
   "outputs": [],
   "source": [
    "attrs=\"level, F_name, S_name\""
   ]
  },
  {
   "cell_type": "markdown",
   "metadata": {},
   "source": [
    "[Optional] Number of operators. Number of SQL/R operators expected in the query."
   ]
  },
  {
   "cell_type": "code",
   "execution_count": 7,
   "metadata": {},
   "outputs": [],
   "source": [
    "loc=3"
   ]
  },
  {
   "cell_type": "markdown",
   "metadata": {},
   "source": [
    "Calling the method synthesize, SQUARES returns the query both in R and SQL."
   ]
  },
  {
   "cell_type": "code",
   "execution_count": 8,
   "metadata": {},
   "outputs": [],
   "source": [
    "R_Query, SQL_Query = s.synthesize(inputs,output,consts,aggrs,attrs,loc)"
   ]
  },
  {
   "cell_type": "markdown",
   "metadata": {},
   "source": [
    "- Now the SQL query is presented:\n"
   ]
  },
  {
   "cell_type": "code",
   "execution_count": 9,
   "metadata": {},
   "outputs": [
    {
     "name": "stdout",
     "output_type": "stream",
     "text": [
      "SELECT DISTINCT `S_name`\n",
      "FROM\n",
      "  (SELECT `S_key`,\n",
      "          `C_name`,\n",
      "          `F_key`,\n",
      "          `S_name`,\n",
      "          `level`,\n",
      "          `F_name`\n",
      "   FROM\n",
      "     (SELECT `S_key`,\n",
      "             `C_name`,\n",
      "             `F_key`,\n",
      "             `S_name`,\n",
      "             `level`\n",
      "      FROM\n",
      "        (SELECT `S_key`,\n",
      "                `C_name`,\n",
      "                `F_key`\n",
      "         FROM `input1` AS `LHS`\n",
      "         INNER JOIN `input0` AS `RHS` ON (`LHS`.`C_name` = `RHS`.`C_name`)) AS `LHS`\n",
      "      INNER JOIN `input3` AS `RHS` ON (`LHS`.`S_key` = `RHS`.`S_key`)) AS `LHS`\n",
      "   INNER JOIN `input2` AS `RHS` ON (`LHS`.`F_key` = `RHS`.`F_key`))\n",
      "WHERE (`level` = 'JR'\n",
      "       AND `F_name` = 'faculty1')\n"
     ]
    }
   ],
   "source": [
    "print(SQL_Query)"
   ]
  },
  {
   "cell_type": "markdown",
   "metadata": {},
   "source": [
    "\n",
    "\n",
    "\n",
    "\n",
    "- Now, the R query is presented:"
   ]
  },
  {
   "cell_type": "code",
   "execution_count": 10,
   "metadata": {},
   "outputs": [
    {
     "name": "stdout",
     "output_type": "stream",
     "text": [
      "RET_DF1400 <- inner_join(inner_join(inner_join(input1, input0), input3), input2)\n",
      "RET_DF1401 <- RET_DF1400 %>% ungroup() %>% filter(level == \"JR\" & F_name == \"faculty1\")\n",
      "RET_DF1402 <- RET_DF1401 %>% ungroup() %>% select(S_name) %>% distinct()\n",
      "\n"
     ]
    }
   ],
   "source": [
    "print(R_Query)"
   ]
  },
  {
   "cell_type": "code",
   "execution_count": null,
   "metadata": {},
   "outputs": [],
   "source": []
  }
 ],
 "metadata": {
  "kernelspec": {
   "display_name": "Python 3",
   "language": "python",
   "name": "python3"
  },
  "language_info": {
   "codemirror_mode": {
    "name": "ipython",
    "version": 3
   },
   "file_extension": ".py",
   "mimetype": "text/x-python",
   "name": "python",
   "nbconvert_exporter": "python",
   "pygments_lexer": "ipython3",
   "version": "3.7.6"
  }
 },
 "nbformat": 4,
 "nbformat_minor": 2
}
