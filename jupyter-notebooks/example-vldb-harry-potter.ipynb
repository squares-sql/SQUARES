{
 "cells": [
  {
   "cell_type": "code",
   "execution_count": 1,
   "metadata": {
    "deletable": false,
    "editable": false
   },
   "outputs": [],
   "source": [
    "%%capture\n",
    "import sys\n",
    "sys.path.append(\"..\")\n",
    "from squaresEnumerator import Squares\n",
    "s = Squares()\n",
    "inputs = []\n",
    "const, aggrs, attrs, loc = \"\", \"\", \"\", 1"
   ]
  },
  {
   "cell_type": "markdown",
   "metadata": {},
   "source": [
    "Inputs:"
   ]
  },
  {
   "cell_type": "markdown",
   "metadata": {},
   "source": [
    "- Faculty \n",
    "\n",
    "|F_key|F_name|\n",
    "|---|---|\n",
    "|f1|Snape|\n",
    "|f2|Flitwick|\n",
    "|f3|Sprout|\n",
    "|f4|McGonagall|\n",
    "\n",
    "- Class\n",
    "\n",
    "|C_name|F_key| \n",
    "|---|---|    \n",
    "| Potions | f1 |    \n",
    "| Charms | f2 |\n",
    "| Dark Arts | f1 |\n",
    "| Herbology | f3 |\n",
    "| Transfiguration | f4 |\n",
    "\n",
    "- Student \n",
    "\n",
    "|S_key|S_name|level|\n",
    "|---|---|---|\n",
    "|S1|Harry|JR|\n",
    "|S2|George|SR|\n",
    "|S3|Ron|JR|\n",
    "|S4|Fred|SR|\n",
    "|S5|Hermione|JR|\n",
    "\n",
    "- Enrolled \n",
    "\n",
    "|S_key|C_name|\n",
    "|---|---|\n",
    "|S1|Potions|\n",
    "|S2|Potions|\n",
    "|S3|Charms|\n",
    "|S3|Transfiguration|\n",
    "|S4|Charms|\n",
    "|S4|Herbology|\n",
    "|S5|Dark Arts|\n"
   ]
  },
  {
   "cell_type": "code",
   "execution_count": 2,
   "metadata": {},
   "outputs": [],
   "source": [
    "input0 = \"C_name,F_key\\nPotions,f1\\nCharms,f2\\nDarkArts,f1\\nHerbology,f3\\nTransfiguration,f4\"\n",
    "inputs.append(input0)\n",
    "\n",
    "input1 = \"S_key,C_name\\nS1,Potions\\nS2,Potions\\nS3,Charms\\nS3,Transfiguration\\nS4,Charms\\nS4,Herbology\\nS5,DarkArts\"\n",
    "inputs.append(input1)\n",
    "\n",
    "input2 = \"F_key,F_name\\nf1,Snape\\nf2,Flitwick\\nf3,Sprout\\nf4,McGonagall\"\n",
    "inputs.append(input2)\n",
    "\n",
    "input3 = \"S_key,S_name,level\\nS1,Harry,JR\\nS2,George,SR\\nS3,Ron,JR\\nS4,Fred,SR\\nS5,Hermione,JR\"\n",
    "inputs.append(input3)"
   ]
  },
  {
   "cell_type": "markdown",
   "metadata": {},
   "source": [
    "Here the user specifies the output table, using a string and \"\\n\" represents the end of a line.\n",
    "The following table is:\n"
   ]
  },
  {
   "cell_type": "markdown",
   "metadata": {},
   "source": [
    "- Output \n",
    "\n",
    "|n|\n",
    "|---|\n",
    "|2|"
   ]
  },
  {
   "cell_type": "code",
   "execution_count": 3,
   "metadata": {},
   "outputs": [],
   "source": [
    "output=\"n\\n2\""
   ]
  },
  {
   "cell_type": "markdown",
   "metadata": {},
   "source": [
    "[Optional] Constants.  Constants can either be integers or strings. \n",
    "- E.g. consts = \"class2,f1\""
   ]
  },
  {
   "cell_type": "code",
   "execution_count": 4,
   "metadata": {},
   "outputs": [],
   "source": [
    "consts=\"Snape, JR\""
   ]
  },
  {
   "cell_type": "markdown",
   "metadata": {},
   "source": [
    "[Optional] Aggregators. The user can specify several SQL/R aggregators that will be used by desired query.\n",
    "Aggregators available: \n",
    "\n",
    "| Choices | SQL Operator |\n",
    "|--|--|\n",
    "| max| MAX|\n",
    "| min | MIN|\n",
    "| mean | AVG|\n",
    "| sum | SUM|\n",
    "| like | LIKE|\n",
    "| concat/concat_grouped | Concat|\n",
    "| n | COUNT( ) |\n",
    "| max(n) | to filter using the maximum number calculated using COUNT( )|\n",
    "\n",
    "For example to count the number of classes taught by some faculty the user should provide aggrs = \"n\"."
   ]
  },
  {
   "cell_type": "code",
   "execution_count": 5,
   "metadata": {},
   "outputs": [],
   "source": [
    "aggrs=\"n\""
   ]
  },
  {
   "cell_type": "markdown",
   "metadata": {},
   "source": [
    "[Optional] Here the user can insert certain attributes from the previous tables, that the query uses.\n",
    "- E.g. attrs=\"level, F_name\"."
   ]
  },
  {
   "cell_type": "code",
   "execution_count": 6,
   "metadata": {},
   "outputs": [],
   "source": [
    "attrs=\"level,F_name,S_name\""
   ]
  },
  {
   "cell_type": "markdown",
   "metadata": {},
   "source": [
    "Calling the method synthesize, SQUARES returns the query both in R and SQL."
   ]
  },
  {
   "cell_type": "code",
   "execution_count": 7,
   "metadata": {},
   "outputs": [],
   "source": [
    "R_Query, SQL_Query = s.synthesize(inputs,output,consts,aggrs,attrs,loc)"
   ]
  },
  {
   "cell_type": "markdown",
   "metadata": {},
   "source": [
    "- Now the SQL query is presented:\n"
   ]
  },
  {
   "cell_type": "code",
   "execution_count": 8,
   "metadata": {},
   "outputs": [
    {
     "name": "stdout",
     "output_type": "stream",
     "text": [
      "SELECT `n`\n",
      "FROM\n",
      "  (SELECT `F_name`,\n",
      "          `level`,\n",
      "          COUNT() AS `n`\n",
      "   FROM\n",
      "     (SELECT `F_key`,\n",
      "             `F_name`,\n",
      "             `C_name`,\n",
      "             `S_key`,\n",
      "             `S_name`,\n",
      "             `level`\n",
      "      FROM\n",
      "        (SELECT `F_key`,\n",
      "                `F_name`,\n",
      "                `C_name`,\n",
      "                `S_key`\n",
      "         FROM\n",
      "           (SELECT `F_key`,\n",
      "                   `F_name`,\n",
      "                   `C_name`\n",
      "            FROM `input2` AS `LHS`\n",
      "            INNER JOIN `input0` AS `RHS` ON (`LHS`.`F_key` = `RHS`.`F_key`)) AS `LHS`\n",
      "         INNER JOIN `input1` AS `RHS` ON (`LHS`.`C_name` = `RHS`.`C_name`)) AS `LHS`\n",
      "      INNER JOIN `input3` AS `RHS` ON (`LHS`.`S_key` = `RHS`.`S_key`))\n",
      "   GROUP BY `F_name`,\n",
      "            `level`)\n",
      "WHERE (`F_name` = 'Snape'\n",
      "       AND `level` = 'JR')\n"
     ]
    }
   ],
   "source": [
    "print(SQL_Query)"
   ]
  },
  {
   "cell_type": "markdown",
   "metadata": {},
   "source": [
    "\n",
    "\n",
    "\n",
    "\n",
    "- Now, the R query is presented:"
   ]
  },
  {
   "cell_type": "code",
   "execution_count": 9,
   "metadata": {},
   "outputs": [
    {
     "name": "stdout",
     "output_type": "stream",
     "text": [
      "RET_DF8379 <- inner_join(inner_join(inner_join(input2, input0), input1), input3)\n",
      "RET_DF8380 <- RET_DF8379 %>% group_by(F_name, level) %>% summarise(n = n())\n",
      "RET_DF8381 <- RET_DF8380 %>% ungroup() %>% filter(F_name == \"Snape\" & level == \"JR\")\n",
      "RET_DF8382 <- RET_DF8381 %>% ungroup() %>% select(n)\n",
      "\n"
     ]
    }
   ],
   "source": [
    "print(R_Query)"
   ]
  }
 ],
 "metadata": {
  "kernelspec": {
   "display_name": "Python 3",
   "language": "python",
   "name": "python3"
  },
  "language_info": {
   "codemirror_mode": {
    "name": "ipython",
    "version": 3
   },
   "file_extension": ".py",
   "mimetype": "text/x-python",
   "name": "python",
   "nbconvert_exporter": "python",
   "pygments_lexer": "ipython3",
   "version": "3.7.6"
  }
 },
 "nbformat": 4,
 "nbformat_minor": 2
}
